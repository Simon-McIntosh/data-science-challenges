{
 "cells": [
  {
   "cell_type": "markdown",
   "id": "cc273891",
   "metadata": {},
   "source": [
    "# Plasma Equilibrium Dataset Preparation\n",
    "\n",
    "## Introduction\n",
    "\n",
    "This notebook follows a similar format to the Plasma Volume Dataset notebook, focusing on preparing data for the Plasma Equilibrium challenge. Like the other challenge notebooks, we access the FAIR-MAST API to collect, process, and format data into training and test sets.\n",
    "\n",
    "The Plasma Equilibrium challenge differs by focusing on 2D poloidal flux maps rather than scalar plasma volume values. The dataset preparation follows these key steps:\n",
    "\n",
    "1. Accessing diagnostic data from the MAST database\n",
    "2. Combining inputs from multiple measurement systems\n",
    "3. Creating a standardized time base for all signals\n",
    "4. Using the `to_dataset` function to combine data from multiple plasma shots\n",
    "5. Shuffling shot IDs with a fixed random seed (7) for reproducible results\n",
    "6. Splitting data into training (5 shots) and testing (2 shots) sets\n",
    "7. Keeping both signals and targets in the training set\n",
    "8. Removing target values (`psi`) from the test set and saving them separately\n",
    "\n",
    "This structured approach ensures that participants can focus on developing predictive models rather than data wrangling. We store ground truth values in a separate solution file for final validation only, simulating real-world scenarios where models predict outcomes for unseen data."
   ]
  },
  {
   "cell_type": "code",
   "execution_count": null,
   "id": "277b3410",
   "metadata": {},
   "outputs": [],
   "source": [
    "# uncomment and run when installing in a Colab notebook\n",
    "# !uv pip install git+https://github.com/Simon-McIntosh/data-science-challenges.git"
   ]
  },
  {
   "cell_type": "code",
   "execution_count": 5,
   "id": "80e61db6",
   "metadata": {},
   "outputs": [],
   "source": [
    "from importlib import resources\n",
    "import pathlib\n",
    "\n",
    "import numpy as np\n",
    "import pandas as pd\n",
    "import xarray as xr"
   ]
  },
  {
   "cell_type": "code",
   "execution_count": 6,
   "id": "ddc0eac8",
   "metadata": {},
   "outputs": [],
   "source": [
    "def to_dask(shot: int, group: str, level: int = 2) -> xr.Dataset:\n",
    "    \"\"\"Return a Dataset from the MAST Zarr store.\"\"\"\n",
    "    return xr.open_zarr(\n",
    "        f\"https://s3.echo.stfc.ac.uk/mast/level{level}/shots/{shot}.zarr\",\n",
    "        group=group,\n",
    "    )\n"
   ]
  },
  {
   "cell_type": "code",
   "execution_count": 7,
   "id": "6d0c1f24",
   "metadata": {},
   "outputs": [],
   "source": [
    "def to_dataset(shots: pd.Series):\n",
    "    \"\"\"Return a concatenated xarray Dataset for a series of input shots.\"\"\"\n",
    "    dataset = []\n",
    "    for shot_index, shot_id in shots.items():\n",
    "        target = to_dask(shot_id, \"equilibrium\")['psi']\n",
    "        signal = []\n",
    "        for group in [\"magnetics\", \"spectrometer_visible\", \"soft_x_rays\", \"thomson_scattering\"]: \n",
    "            data = to_dask(shot_id, group).interp({\"time\": target.time})\n",
    "            if \"major_radius\" in data:\n",
    "                data = data.interp({\"major_radius\": target.major_radius})\n",
    "            other_times = set()\n",
    "            for var in data.data_vars:  # Interpolate to the target time\n",
    "                time_dim = next((dim for dim in data[var].dims \n",
    "                                 if dim.startswith('time')), 'time')\n",
    "                if time_dim != \"time\":\n",
    "                    other_times.add(time_dim)\n",
    "                data[var] = data[var].interp({time_dim: target.time})               \n",
    "                data[var] = data[var].transpose(\"time\", ...)\n",
    "                data[var].attrs |= {\"group\": group}\n",
    "            data = data.drop_vars(other_times)\n",
    "            signal.append(data)\n",
    "        signal = xr.merge(signal, combine_attrs=\"drop_conflicts\")\n",
    "        signal[\"shot_index\"] = \"time\", shot_index * np.ones(target.sizes[\"time\"], int)\n",
    "        dataset.append(xr.merge([signal, target], combine_attrs=\"override\"))\n",
    "    return xr.concat(dataset, \"time\", join=\"override\", combine_attrs=\"drop_conflicts\")\n"
   ]
  },
  {
   "cell_type": "code",
   "execution_count": 8,
   "id": "52c22fc4",
   "metadata": {},
   "outputs": [],
   "source": [
    "source_ids = np.array([15585, 15212, 15010, 14998, 30410, 30418, 30420])\n",
    "\n",
    "rng = np.random.default_rng(7)\n",
    "rng.shuffle(source_ids)\n",
    "source_ids = pd.Series(source_ids)\n",
    "\n",
    "split_ids = {\n",
    "    \"train\": source_ids[:5],\n",
    "    \"test\": source_ids[5:],\n",
    "}\n",
    "\n",
    "dataset = {mode: to_dataset(shot_ids) for mode, shot_ids in split_ids.items()}\n",
    "\n",
    "# extract solution\n",
    "psi = dataset[\"test\"].psi.data.reshape((dataset[\"test\"].sizes[\"time\"], -1))\n",
    "solution = pd.DataFrame(psi)\n",
    "solution.index.name = \"index\"\n",
    "shot_index = dataset[\"test\"].shot_index.data\n",
    "solution[\"Usage\"] = [{5: \"Public\", 6: \"Private\"}.get(index) for index in shot_index]\n",
    "# delete solution from test file\n",
    "dataset[\"test\"] = dataset[\"test\"].drop_vars(\"psi\")\n",
    "\n",
    "# write to file\n",
    "pkg_path = resources.files(\"data_science_challenges\")\n",
    "data_path = pkg_path / \"fair_mast_data\" / \"plasma_equilibrium\"\n",
    "data_path.mkdir(exist_ok=True)\n",
    "dataset[\"train\"].to_netcdf(data_path / \"train.nc\")\n",
    "dataset[\"test\"].to_netcdf(data_path / \"test.nc\")\n",
    "solution.to_csv(data_path / \"solution.csv\")"
   ]
  }
 ],
 "metadata": {
  "kernelspec": {
   "display_name": "data_science_challenges",
   "language": "python",
   "name": "python3"
  },
  "language_info": {
   "codemirror_mode": {
    "name": "ipython",
    "version": 3
   },
   "file_extension": ".py",
   "mimetype": "text/x-python",
   "name": "python",
   "nbconvert_exporter": "python",
   "pygments_lexer": "ipython3",
   "version": "3.11.4"
  }
 },
 "nbformat": 4,
 "nbformat_minor": 5
}
